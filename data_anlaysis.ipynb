{
 "cells": [
  {
   "cell_type": "code",
   "execution_count": 1,
   "id": "6bd0ebfe",
   "metadata": {},
   "outputs": [],
   "source": [
    "import plotly.graph_objects as go\n",
    "import plotly.offline as pyo"
   ]
  },
  {
   "cell_type": "code",
   "execution_count": 1,
   "id": "c2c941b6",
   "metadata": {},
   "outputs": [
    {
     "name": "stdout",
     "output_type": "stream",
     "text": [
      "25/06/11 13:35:16 WARN Utils: Your hostname, rohitkarki resolves to a loopback address: 127.0.1.1; using 10.13.164.166 instead (on interface wlp4s0)\n",
      "25/06/11 13:35:16 WARN Utils: Set SPARK_LOCAL_IP if you need to bind to another address\n",
      ":: loading settings :: url = jar:file:/home/rohitkarki/.local/lib/python3.10/site-packages/pyspark/jars/ivy-2.5.1.jar!/org/apache/ivy/core/settings/ivysettings.xml\n"
     ]
    },
    {
     "name": "stderr",
     "output_type": "stream",
     "text": [
      "Ivy Default Cache set to: /home/rohitkarki/.ivy2/cache\n",
      "The jars for the packages stored in: /home/rohitkarki/.ivy2/jars\n",
      "org.apache.iceberg#iceberg-spark-runtime-3.3_2.12 added as a dependency\n",
      "org.xerial#sqlite-jdbc added as a dependency\n",
      ":: resolving dependencies :: org.apache.spark#spark-submit-parent-1b5d5b1f-7ec6-430e-bf6d-1d0e4453269f;1.0\n",
      "\tconfs: [default]\n",
      "\tfound org.apache.iceberg#iceberg-spark-runtime-3.3_2.12;1.5.2 in central\n",
      "\tfound org.xerial#sqlite-jdbc;3.42.0.0 in central\n",
      ":: resolution report :: resolve 152ms :: artifacts dl 2ms\n",
      "\t:: modules in use:\n",
      "\torg.apache.iceberg#iceberg-spark-runtime-3.3_2.12;1.5.2 from central in [default]\n",
      "\torg.xerial#sqlite-jdbc;3.42.0.0 from central in [default]\n",
      "\t---------------------------------------------------------------------\n",
      "\t|                  |            modules            ||   artifacts   |\n",
      "\t|       conf       | number| search|dwnlded|evicted|| number|dwnlded|\n",
      "\t---------------------------------------------------------------------\n",
      "\t|      default     |   2   |   0   |   0   |   0   ||   2   |   0   |\n",
      "\t---------------------------------------------------------------------\n",
      ":: retrieving :: org.apache.spark#spark-submit-parent-1b5d5b1f-7ec6-430e-bf6d-1d0e4453269f\n",
      "\tconfs: [default]\n",
      "\t0 artifacts copied, 2 already retrieved (0kB/4ms)\n"
     ]
    },
    {
     "name": "stdout",
     "output_type": "stream",
     "text": [
      "25/06/11 13:35:16 WARN NativeCodeLoader: Unable to load native-hadoop library for your platform... using builtin-java classes where applicable\n"
     ]
    },
    {
     "name": "stderr",
     "output_type": "stream",
     "text": [
      "Setting default log level to \"WARN\".\n",
      "To adjust logging level use sc.setLogLevel(newLevel). For SparkR, use setLogLevel(newLevel).\n"
     ]
    }
   ],
   "source": [
    "from pyspark.sql import SparkSession\n",
    "from pyspark.sql.types import StructType, StructField, LongType, StringType, DoubleType\n",
    "\n",
    "import os\n",
    "import sys\n",
    "\n",
    "os.environ[\"PYSPARK_PYTHON\"] = sys.executable\n",
    "os.environ[\"PYSPARK_DRIVER_PYTHON\"] = sys.executable\n",
    "spark = (\n",
    "    SparkSession.builder.appName(\"IcebergLocalDevelopment\")\n",
    "    .config(\n",
    "        \"spark.jars.packages\",\n",
    "        \"org.apache.iceberg:iceberg-spark-runtime-3.3_2.12:1.5.2,org.xerial:sqlite-jdbc:3.42.0.0\",\n",
    "    )\n",
    "    .config(\"spark.sql.crossJoin.enabled\", \"true\")\n",
    "    .config(\"spark.sql.iceberg.handle-timestamp-without-timezone\", \"true\")\n",
    "    .config(\n",
    "        \"spark.sql.extensions\",\n",
    "        \"org.apache.iceberg.spark.extensions.IcebergSparkSessionExtensions\",\n",
    "    )\n",
    "    .config(\"spark.sql.catalog.default\", \"org.apache.iceberg.spark.SparkCatalog\")\n",
    "    .config(\"spark.sql.catalog.default.type\", \"jdbc\")\n",
    "    # After error with both catalog-impl and type, we use only type\n",
    "    # .config(\n",
    "    #     \"spark.sql.catalog.default.catalog-impl\",\n",
    "    #     \"org.apache.iceberg.jdbc.JdbcCatalog\",\n",
    "    # )\n",
    "    .config(\n",
    "        \"spark.sql.catalog.default.uri\",\n",
    "        \"jdbc:sqlite:/tmp/warehouse/pyiceberg_catalog.db\",\n",
    "    )\n",
    "    .config(\n",
    "        \"spark.sql.catalog.default.warehouse\",\n",
    "        \"hdfs://localhost:9000/user/hive/warehouse\",\n",
    "    )\n",
    "    .config(\"spark.sql.catalog.default.jdbc.driver\", \"org.sqlite.JDBC\")\n",
    "    .config(\"spark.hadoop.fs.defaultFS\", \"hdfs://localhost:9000\")\n",
    "    .config(\"spark.serializer\", \"org.apache.spark.serializer.KryoSerializer\")\n",
    "    .getOrCreate()\n",
    ")"
   ]
  },
  {
   "cell_type": "code",
   "execution_count": 3,
   "id": "a2ba9d13",
   "metadata": {},
   "outputs": [
    {
     "name": "stdout",
     "output_type": "stream",
     "text": [
      "+-------------+---------+\n",
      "|      catalog|namespace|\n",
      "+-------------+---------+\n",
      "|spark_catalog|  default|\n",
      "+-------------+---------+\n",
      "\n",
      "25/06/11 13:35:40 WARN JdbcCatalog: JDBC catalog is initialized without view support. To auto-migrate the database's schema and enable view support, set jdbc.schema-version=V1\n",
      "+---------+\n",
      "|namespace|\n",
      "+---------+\n",
      "|    sales|\n",
      "+---------+\n",
      "\n",
      "+---------+--------------+-----------+\n",
      "|namespace|     tableName|isTemporary|\n",
      "+---------+--------------+-----------+\n",
      "|    sales|       Drivers|      false|\n",
      "|    sales|ai_job_dataset|      false|\n",
      "|    sales|     employees|      false|\n",
      "|    sales|  transactions|      false|\n",
      "|    sales|      vehicles|      false|\n",
      "+---------+--------------+-----------+\n",
      "\n"
     ]
    }
   ],
   "source": [
    "# Check current catalog and namespace\n",
    "spark.sql(\"SHOW CURRENT NAMESPACE\").show()\n",
    "\n",
    "# List namespaces in the default catalog specifically\n",
    "spark.sql(\"SHOW NAMESPACES IN default\").show()\n",
    "\n",
    "# If sales namespace exists, try to use it\n",
    "spark.sql(\"USE default.sales\")\n",
    "spark.sql(\"SHOW TABLES\").show()\n"
   ]
  },
  {
   "cell_type": "code",
   "execution_count": 4,
   "id": "cd9aabd9",
   "metadata": {},
   "outputs": [
    {
     "name": "stderr",
     "output_type": "stream",
     "text": [
      "[Stage 2:>                                                          (0 + 1) / 1]\r"
     ]
    },
    {
     "name": "stdout",
     "output_type": "stream",
     "text": [
      "+--------------------------+------------------------+\n",
      "|count_of_inspection_result|latest_inspection_result|\n",
      "+--------------------------+------------------------+\n",
      "|                      1143|                    Pass|\n",
      "|                         6|                    Fail|\n",
      "+--------------------------+------------------------+\n",
      "\n"
     ]
    },
    {
     "name": "stderr",
     "output_type": "stream",
     "text": [
      "                                                                                \r"
     ]
    }
   ],
   "source": [
    "spark.sql(\n",
    "    \"\"\"\n",
    "SELECT COUNT(latest_inspection_result) as count_of_inspection_result, latest_inspection_result\n",
    "FROM sales.vehicles\n",
    "GROUP BY latest_inspection_result\n",
    "ORDER BY count_of_inspection_result DESC\n",
    "LIMIT 10\n",
    "    \"\"\").show()"
   ]
  },
  {
   "cell_type": "code",
   "execution_count": null,
   "id": "dcce764d",
   "metadata": {},
   "outputs": [],
   "source": []
  },
  {
   "cell_type": "code",
   "execution_count": 4,
   "id": "912f0908",
   "metadata": {},
   "outputs": [
    {
     "name": "stdout",
     "output_type": "stream",
     "text": [
      "+-----+--------------------+\n",
      "|count|              status|\n",
      "+-----+--------------------+\n",
      "| 2579|          Incomplete|\n",
      "|  440|Approved - Licens...|\n",
      "|  153|              Denied|\n",
      "|   83|        Under Review|\n",
      "|    7|Pending Fitness I...|\n",
      "+-----+--------------------+\n",
      "\n"
     ]
    },
    {
     "name": "stderr",
     "output_type": "stream",
     "text": [
      "                                                                                \r"
     ]
    }
   ],
   "source": [
    "spark.sql(\n",
    "    \"\"\"\n",
    "SELECT COUNT(*) as count, table.status\n",
    "FROM sales.Drivers as table\n",
    "GROUP BY status\n",
    "ORDER BY COUNT(*) DESC\n",
    "\"\"\"\n",
    ").show(10)"
   ]
  },
  {
   "cell_type": "code",
   "execution_count": 4,
   "id": "d0a71c6d",
   "metadata": {},
   "outputs": [
    {
     "name": "stderr",
     "output_type": "stream",
     "text": [
      "[Stage 2:>                                                          (0 + 1) / 1]\r"
     ]
    },
    {
     "name": "stdout",
     "output_type": "stream",
     "text": [
      "+--------------------+-----+\n",
      "|              status|count|\n",
      "+--------------------+-----+\n",
      "|          Incomplete| 2579|\n",
      "|Approved - Licens...|  440|\n",
      "|              Denied|  153|\n",
      "|        Under Review|   83|\n",
      "|Pending Fitness I...|    7|\n",
      "+--------------------+-----+\n",
      "\n"
     ]
    },
    {
     "name": "stderr",
     "output_type": "stream",
     "text": [
      "                                                                                \r"
     ]
    }
   ],
   "source": [
    "df = spark.table(\"sales.Drivers\").groupBy(\"status\").count().orderBy(\"count\", ascending=False)\n",
    "df.show()"
   ]
  },
  {
   "cell_type": "code",
   "execution_count": 7,
   "id": "f6dac4d7",
   "metadata": {},
   "outputs": [
    {
     "data": {
      "application/vnd.plotly.v1+json": {
       "config": {
        "plotlyServerURL": "https://plot.ly"
       },
       "data": [
        {
         "hovertemplate": "<b>Status:</b> %{x}<br><b>Count:</b> %{y}<extra></extra>",
         "marker": {
          "color": "rgb(58, 148, 240)",
          "line": {
           "color": "rgb(255,255,255)",
           "width": 1.5
          }
         },
         "name": "Application Status Count",
         "type": "bar",
         "x": [
          "Incomplete",
          "Approved - License Issued",
          "Denied",
          "Under Review",
          "Pending Fitness Interview"
         ],
         "y": [
          2579,
          440,
          153,
          83,
          7
         ]
        }
       ],
       "layout": {
        "font": {
         "color": "#333",
         "family": "Inter"
        },
        "margin": {
         "b": 120,
         "l": 60,
         "r": 20,
         "t": 70
        },
        "paper_bgcolor": "rgba(0,0,0,0)",
        "plot_bgcolor": "rgba(0,0,0,0)",
        "template": {
         "data": {
          "bar": [
           {
            "error_x": {
             "color": "#2a3f5f"
            },
            "error_y": {
             "color": "#2a3f5f"
            },
            "marker": {
             "line": {
              "color": "#E5ECF6",
              "width": 0.5
             },
             "pattern": {
              "fillmode": "overlay",
              "size": 10,
              "solidity": 0.2
             }
            },
            "type": "bar"
           }
          ],
          "barpolar": [
           {
            "marker": {
             "line": {
              "color": "#E5ECF6",
              "width": 0.5
             },
             "pattern": {
              "fillmode": "overlay",
              "size": 10,
              "solidity": 0.2
             }
            },
            "type": "barpolar"
           }
          ],
          "carpet": [
           {
            "aaxis": {
             "endlinecolor": "#2a3f5f",
             "gridcolor": "white",
             "linecolor": "white",
             "minorgridcolor": "white",
             "startlinecolor": "#2a3f5f"
            },
            "baxis": {
             "endlinecolor": "#2a3f5f",
             "gridcolor": "white",
             "linecolor": "white",
             "minorgridcolor": "white",
             "startlinecolor": "#2a3f5f"
            },
            "type": "carpet"
           }
          ],
          "choropleth": [
           {
            "colorbar": {
             "outlinewidth": 0,
             "ticks": ""
            },
            "type": "choropleth"
           }
          ],
          "contour": [
           {
            "colorbar": {
             "outlinewidth": 0,
             "ticks": ""
            },
            "colorscale": [
             [
              0,
              "#0d0887"
             ],
             [
              0.1111111111111111,
              "#46039f"
             ],
             [
              0.2222222222222222,
              "#7201a8"
             ],
             [
              0.3333333333333333,
              "#9c179e"
             ],
             [
              0.4444444444444444,
              "#bd3786"
             ],
             [
              0.5555555555555556,
              "#d8576b"
             ],
             [
              0.6666666666666666,
              "#ed7953"
             ],
             [
              0.7777777777777778,
              "#fb9f3a"
             ],
             [
              0.8888888888888888,
              "#fdca26"
             ],
             [
              1,
              "#f0f921"
             ]
            ],
            "type": "contour"
           }
          ],
          "contourcarpet": [
           {
            "colorbar": {
             "outlinewidth": 0,
             "ticks": ""
            },
            "type": "contourcarpet"
           }
          ],
          "heatmap": [
           {
            "colorbar": {
             "outlinewidth": 0,
             "ticks": ""
            },
            "colorscale": [
             [
              0,
              "#0d0887"
             ],
             [
              0.1111111111111111,
              "#46039f"
             ],
             [
              0.2222222222222222,
              "#7201a8"
             ],
             [
              0.3333333333333333,
              "#9c179e"
             ],
             [
              0.4444444444444444,
              "#bd3786"
             ],
             [
              0.5555555555555556,
              "#d8576b"
             ],
             [
              0.6666666666666666,
              "#ed7953"
             ],
             [
              0.7777777777777778,
              "#fb9f3a"
             ],
             [
              0.8888888888888888,
              "#fdca26"
             ],
             [
              1,
              "#f0f921"
             ]
            ],
            "type": "heatmap"
           }
          ],
          "histogram": [
           {
            "marker": {
             "pattern": {
              "fillmode": "overlay",
              "size": 10,
              "solidity": 0.2
             }
            },
            "type": "histogram"
           }
          ],
          "histogram2d": [
           {
            "colorbar": {
             "outlinewidth": 0,
             "ticks": ""
            },
            "colorscale": [
             [
              0,
              "#0d0887"
             ],
             [
              0.1111111111111111,
              "#46039f"
             ],
             [
              0.2222222222222222,
              "#7201a8"
             ],
             [
              0.3333333333333333,
              "#9c179e"
             ],
             [
              0.4444444444444444,
              "#bd3786"
             ],
             [
              0.5555555555555556,
              "#d8576b"
             ],
             [
              0.6666666666666666,
              "#ed7953"
             ],
             [
              0.7777777777777778,
              "#fb9f3a"
             ],
             [
              0.8888888888888888,
              "#fdca26"
             ],
             [
              1,
              "#f0f921"
             ]
            ],
            "type": "histogram2d"
           }
          ],
          "histogram2dcontour": [
           {
            "colorbar": {
             "outlinewidth": 0,
             "ticks": ""
            },
            "colorscale": [
             [
              0,
              "#0d0887"
             ],
             [
              0.1111111111111111,
              "#46039f"
             ],
             [
              0.2222222222222222,
              "#7201a8"
             ],
             [
              0.3333333333333333,
              "#9c179e"
             ],
             [
              0.4444444444444444,
              "#bd3786"
             ],
             [
              0.5555555555555556,
              "#d8576b"
             ],
             [
              0.6666666666666666,
              "#ed7953"
             ],
             [
              0.7777777777777778,
              "#fb9f3a"
             ],
             [
              0.8888888888888888,
              "#fdca26"
             ],
             [
              1,
              "#f0f921"
             ]
            ],
            "type": "histogram2dcontour"
           }
          ],
          "mesh3d": [
           {
            "colorbar": {
             "outlinewidth": 0,
             "ticks": ""
            },
            "type": "mesh3d"
           }
          ],
          "parcoords": [
           {
            "line": {
             "colorbar": {
              "outlinewidth": 0,
              "ticks": ""
             }
            },
            "type": "parcoords"
           }
          ],
          "pie": [
           {
            "automargin": true,
            "type": "pie"
           }
          ],
          "scatter": [
           {
            "fillpattern": {
             "fillmode": "overlay",
             "size": 10,
             "solidity": 0.2
            },
            "type": "scatter"
           }
          ],
          "scatter3d": [
           {
            "line": {
             "colorbar": {
              "outlinewidth": 0,
              "ticks": ""
             }
            },
            "marker": {
             "colorbar": {
              "outlinewidth": 0,
              "ticks": ""
             }
            },
            "type": "scatter3d"
           }
          ],
          "scattercarpet": [
           {
            "marker": {
             "colorbar": {
              "outlinewidth": 0,
              "ticks": ""
             }
            },
            "type": "scattercarpet"
           }
          ],
          "scattergeo": [
           {
            "marker": {
             "colorbar": {
              "outlinewidth": 0,
              "ticks": ""
             }
            },
            "type": "scattergeo"
           }
          ],
          "scattergl": [
           {
            "marker": {
             "colorbar": {
              "outlinewidth": 0,
              "ticks": ""
             }
            },
            "type": "scattergl"
           }
          ],
          "scattermap": [
           {
            "marker": {
             "colorbar": {
              "outlinewidth": 0,
              "ticks": ""
             }
            },
            "type": "scattermap"
           }
          ],
          "scattermapbox": [
           {
            "marker": {
             "colorbar": {
              "outlinewidth": 0,
              "ticks": ""
             }
            },
            "type": "scattermapbox"
           }
          ],
          "scatterpolar": [
           {
            "marker": {
             "colorbar": {
              "outlinewidth": 0,
              "ticks": ""
             }
            },
            "type": "scatterpolar"
           }
          ],
          "scatterpolargl": [
           {
            "marker": {
             "colorbar": {
              "outlinewidth": 0,
              "ticks": ""
             }
            },
            "type": "scatterpolargl"
           }
          ],
          "scatterternary": [
           {
            "marker": {
             "colorbar": {
              "outlinewidth": 0,
              "ticks": ""
             }
            },
            "type": "scatterternary"
           }
          ],
          "surface": [
           {
            "colorbar": {
             "outlinewidth": 0,
             "ticks": ""
            },
            "colorscale": [
             [
              0,
              "#0d0887"
             ],
             [
              0.1111111111111111,
              "#46039f"
             ],
             [
              0.2222222222222222,
              "#7201a8"
             ],
             [
              0.3333333333333333,
              "#9c179e"
             ],
             [
              0.4444444444444444,
              "#bd3786"
             ],
             [
              0.5555555555555556,
              "#d8576b"
             ],
             [
              0.6666666666666666,
              "#ed7953"
             ],
             [
              0.7777777777777778,
              "#fb9f3a"
             ],
             [
              0.8888888888888888,
              "#fdca26"
             ],
             [
              1,
              "#f0f921"
             ]
            ],
            "type": "surface"
           }
          ],
          "table": [
           {
            "cells": {
             "fill": {
              "color": "#EBF0F8"
             },
             "line": {
              "color": "white"
             }
            },
            "header": {
             "fill": {
              "color": "#C8D4E3"
             },
             "line": {
              "color": "white"
             }
            },
            "type": "table"
           }
          ]
         },
         "layout": {
          "annotationdefaults": {
           "arrowcolor": "#2a3f5f",
           "arrowhead": 0,
           "arrowwidth": 1
          },
          "autotypenumbers": "strict",
          "coloraxis": {
           "colorbar": {
            "outlinewidth": 0,
            "ticks": ""
           }
          },
          "colorscale": {
           "diverging": [
            [
             0,
             "#8e0152"
            ],
            [
             0.1,
             "#c51b7d"
            ],
            [
             0.2,
             "#de77ae"
            ],
            [
             0.3,
             "#f1b6da"
            ],
            [
             0.4,
             "#fde0ef"
            ],
            [
             0.5,
             "#f7f7f7"
            ],
            [
             0.6,
             "#e6f5d0"
            ],
            [
             0.7,
             "#b8e186"
            ],
            [
             0.8,
             "#7fbc41"
            ],
            [
             0.9,
             "#4d9221"
            ],
            [
             1,
             "#276419"
            ]
           ],
           "sequential": [
            [
             0,
             "#0d0887"
            ],
            [
             0.1111111111111111,
             "#46039f"
            ],
            [
             0.2222222222222222,
             "#7201a8"
            ],
            [
             0.3333333333333333,
             "#9c179e"
            ],
            [
             0.4444444444444444,
             "#bd3786"
            ],
            [
             0.5555555555555556,
             "#d8576b"
            ],
            [
             0.6666666666666666,
             "#ed7953"
            ],
            [
             0.7777777777777778,
             "#fb9f3a"
            ],
            [
             0.8888888888888888,
             "#fdca26"
            ],
            [
             1,
             "#f0f921"
            ]
           ],
           "sequentialminus": [
            [
             0,
             "#0d0887"
            ],
            [
             0.1111111111111111,
             "#46039f"
            ],
            [
             0.2222222222222222,
             "#7201a8"
            ],
            [
             0.3333333333333333,
             "#9c179e"
            ],
            [
             0.4444444444444444,
             "#bd3786"
            ],
            [
             0.5555555555555556,
             "#d8576b"
            ],
            [
             0.6666666666666666,
             "#ed7953"
            ],
            [
             0.7777777777777778,
             "#fb9f3a"
            ],
            [
             0.8888888888888888,
             "#fdca26"
            ],
            [
             1,
             "#f0f921"
            ]
           ]
          },
          "colorway": [
           "#636efa",
           "#EF553B",
           "#00cc96",
           "#ab63fa",
           "#FFA15A",
           "#19d3f3",
           "#FF6692",
           "#B6E880",
           "#FF97FF",
           "#FECB52"
          ],
          "font": {
           "color": "#2a3f5f"
          },
          "geo": {
           "bgcolor": "white",
           "lakecolor": "white",
           "landcolor": "#E5ECF6",
           "showlakes": true,
           "showland": true,
           "subunitcolor": "white"
          },
          "hoverlabel": {
           "align": "left"
          },
          "hovermode": "closest",
          "mapbox": {
           "style": "light"
          },
          "paper_bgcolor": "white",
          "plot_bgcolor": "#E5ECF6",
          "polar": {
           "angularaxis": {
            "gridcolor": "white",
            "linecolor": "white",
            "ticks": ""
           },
           "bgcolor": "#E5ECF6",
           "radialaxis": {
            "gridcolor": "white",
            "linecolor": "white",
            "ticks": ""
           }
          },
          "scene": {
           "xaxis": {
            "backgroundcolor": "#E5ECF6",
            "gridcolor": "white",
            "gridwidth": 2,
            "linecolor": "white",
            "showbackground": true,
            "ticks": "",
            "zerolinecolor": "white"
           },
           "yaxis": {
            "backgroundcolor": "#E5ECF6",
            "gridcolor": "white",
            "gridwidth": 2,
            "linecolor": "white",
            "showbackground": true,
            "ticks": "",
            "zerolinecolor": "white"
           },
           "zaxis": {
            "backgroundcolor": "#E5ECF6",
            "gridcolor": "white",
            "gridwidth": 2,
            "linecolor": "white",
            "showbackground": true,
            "ticks": "",
            "zerolinecolor": "white"
           }
          },
          "shapedefaults": {
           "line": {
            "color": "#2a3f5f"
           }
          },
          "ternary": {
           "aaxis": {
            "gridcolor": "white",
            "linecolor": "white",
            "ticks": ""
           },
           "baxis": {
            "gridcolor": "white",
            "linecolor": "white",
            "ticks": ""
           },
           "bgcolor": "#E5ECF6",
           "caxis": {
            "gridcolor": "white",
            "linecolor": "white",
            "ticks": ""
           }
          },
          "title": {
           "x": 0.05
          },
          "xaxis": {
           "automargin": true,
           "gridcolor": "white",
           "linecolor": "white",
           "ticks": "",
           "title": {
            "standoff": 15
           },
           "zerolinecolor": "white",
           "zerolinewidth": 2
          },
          "yaxis": {
           "automargin": true,
           "gridcolor": "white",
           "linecolor": "white",
           "ticks": "",
           "title": {
            "standoff": 15
           },
           "zerolinecolor": "white",
           "zerolinewidth": 2
          }
         }
        },
        "title": {
         "font": {
          "color": "#333",
          "family": "Inter",
          "size": 20
         },
         "text": "Count by Application Status"
        },
        "xaxis": {
         "automargin": true,
         "tickangle": -45,
         "tickfont": {
          "color": "#666",
          "family": "Inter",
          "size": 12
         },
         "title": {
          "font": {
           "color": "#555",
           "family": "Inter",
           "size": 16
          },
          "text": "Application Status"
         }
        },
        "yaxis": {
         "rangemode": "tozero",
         "tickfont": {
          "color": "#666",
          "family": "Inter",
          "size": 12
         },
         "title": {
          "font": {
           "color": "#555",
           "family": "Inter",
           "size": 16
          },
          "text": "Number of Applications"
         }
        }
       }
      }
     },
     "metadata": {},
     "output_type": "display_data"
    }
   ],
   "source": [
    "# --- Collect Spark DataFrame results to a Python list for Plotly ---\n",
    "# .collect() brings all results to the driver program. Be cautious with large datasets.\n",
    "data_for_plotly = df.collect()\n",
    "\n",
    "# Convert Row objects to dictionaries and extract statuses and counts\n",
    "statuses = [row['status'] for row in data_for_plotly]\n",
    "counts = [row['count'] for row in data_for_plotly]\n",
    "\n",
    "# --- Plotly Chart Generation ---\n",
    "# Create a bar trace\n",
    "trace = go.Bar(\n",
    "    x=statuses,\n",
    "    y=counts,\n",
    "    marker=dict(\n",
    "        color='rgb(58, 148, 240)', # A pleasant blue color for the bars\n",
    "        line=dict(\n",
    "            width=1.5,\n",
    "            color='rgb(255,255,255)' # White border for bars\n",
    "        )\n",
    "    ),\n",
    "    name='Application Status Count',\n",
    "    hovertemplate='<b>Status:</b> %{x}<br><b>Count:</b> %{y}<extra></extra>' # Custom hover text\n",
    ")\n",
    "\n",
    "# Define the layout of the chart\n",
    "layout = go.Layout(\n",
    "    title=dict(\n",
    "        text='Count by Application Status', # Chart title\n",
    "        font=dict(\n",
    "            family='Inter',\n",
    "            size=20,\n",
    "            color='#333'\n",
    "        )\n",
    "    ),\n",
    "    xaxis=dict(\n",
    "        title=dict(\n",
    "            text='Application Status', # X-axis title\n",
    "            font=dict(\n",
    "                family='Inter',\n",
    "                size=16,\n",
    "                color='#555'\n",
    "            )\n",
    "        ),\n",
    "        tickangle=-45, # Angle the x-axis labels for better readability\n",
    "        automargin=True, # Automatically adjust margins for long labels\n",
    "        tickfont=dict(\n",
    "            family='Inter',\n",
    "            size=12,\n",
    "            color='#666'\n",
    "        )\n",
    "    ),\n",
    "    yaxis=dict(\n",
    "        title=dict(\n",
    "            text='Number of Applications', # Y-axis title\n",
    "            font=dict(\n",
    "                family='Inter',\n",
    "                size=16,\n",
    "                color='#555'\n",
    "            )\n",
    "        ),\n",
    "        rangemode='tozero', # Ensure y-axis starts from zero\n",
    "        tickfont=dict(\n",
    "            family='Inter',\n",
    "            size=12,\n",
    "            color='#666'\n",
    "        )\n",
    "    ),\n",
    "    margin=dict(\n",
    "        l=60, r=20, t=70, b=120 # Adjust margins to prevent labels from being cut off\n",
    "    ),\n",
    "    plot_bgcolor='rgba(0,0,0,0)', # Transparent plot background\n",
    "    paper_bgcolor='rgba(0,0,0,0)', # Transparent paper background\n",
    "    font=dict(\n",
    "        family='Inter',\n",
    "        color='#333'\n",
    "    )\n",
    ")\n",
    "\n",
    "# Create the figure object\n",
    "fig = go.Figure(data=[trace], layout=layout)\n",
    "fig.show()"
   ]
  },
  {
   "cell_type": "code",
   "execution_count": null,
   "id": "7a695b4a",
   "metadata": {},
   "outputs": [
    {
     "name": "stdout",
     "output_type": "stream",
     "text": [
      "25/06/10 10:51:58 WARN JdbcCatalog: JDBC catalog is initialized without view support. To auto-migrate the database's schema and enable view support, set jdbc.schema-version=V1\n",
      "Available catalogs:\n",
      "+-------+\n",
      "|catalog|\n",
      "+-------+\n",
      "|default|\n",
      "+-------+\n",
      "\n",
      "Data written via DataFrame API:\n"
     ]
    },
    {
     "name": "stderr",
     "output_type": "stream",
     "text": [
      "                                                                                \r"
     ]
    },
    {
     "name": "stdout",
     "output_type": "stream",
     "text": [
      "+---+-----------+------+\n",
      "| id|   category|amount|\n",
      "+---+-----------+------+\n",
      "|  1|electronics|299.99|\n",
      "|  6|      books| 25.99|\n",
      "|  2|   clothing| 79.99|\n",
      "|  3|  groceries|  45.5|\n",
      "|  7|electronics|599.99|\n",
      "|  4|electronics|999.99|\n",
      "|  5|   clothing| 120.0|\n",
      "+---+-----------+------+\n",
      "\n",
      "Category-wise totals:\n",
      "+-----------+-----+------------+-----------------+\n",
      "|   category|count|total_amount|       avg_amount|\n",
      "+-----------+-----+------------+-----------------+\n",
      "|electronics|    3|     1899.97|633.3233333333334|\n",
      "|   clothing|    2|      199.99|           99.995|\n",
      "|  groceries|    1|        45.5|             45.5|\n",
      "|      books|    1|       25.99|            25.99|\n",
      "+-----------+-----+------------+-----------------+\n",
      "\n"
     ]
    }
   ],
   "source": [
    "# Set default catalog to local for convenience\n",
    "# spark.sql(\"USE default\")\n",
    "\n",
    "# # Create sample data\n",
    "# data = [\n",
    "#     (1, \"electronics\", 299.99),\n",
    "#     (2, \"clothing\", 79.99),\n",
    "#     (3, \"groceries\", 45.50),\n",
    "#     (4, \"electronics\", 999.99),\n",
    "#     (5, \"clothing\", 120.00),\n",
    "# ]\n",
    "\n",
    "# # Define schema\n",
    "# schema = StructType(\n",
    "#     [\n",
    "#         StructField(\"id\", LongType(), True),\n",
    "#         StructField(\"category\", StringType(), True),\n",
    "#         StructField(\"amount\", DoubleType(), True),\n",
    "#     ]\n",
    "# )\n",
    "\n",
    "# # # Create DataFrame\n",
    "# # df = spark.createDataFrame(data, schema)\n",
    "\n",
    "# # Write DataFrame to Iceberg table\n",
    "# # df.write.format(\"iceberg\").mode(\"overwrite\").saveAsTable(\"hello.sales_data_df\")\n",
    "\n",
    "# # Read the data back\n",
    "# print(\"Data written via DataFrame API:\")\n",
    "# spark.table(\"hello.sales_data_df\").show()\n",
    "\n",
    "# # Perform analytics\n",
    "# print(\"Category-wise totals:\")\n",
    "# spark.sql(\n",
    "#     \"\"\"\n",
    "# SELECT category, \n",
    "#        COUNT(*) as count, \n",
    "#        SUM(amount) as total_amount,\n",
    "#        AVG(amount) as avg_amount\n",
    "# FROM hello.sales_data_df \n",
    "# GROUP BY category \n",
    "# ORDER BY total_amount DESC\n",
    "# \"\"\"\n",
    "# ).show()\n"
   ]
  },
  {
   "cell_type": "code",
   "execution_count": null,
   "id": "5d2aeae0",
   "metadata": {},
   "outputs": [],
   "source": []
  },
  {
   "cell_type": "code",
   "execution_count": null,
   "id": "e28cb4c1",
   "metadata": {},
   "outputs": [],
   "source": []
  },
  {
   "cell_type": "code",
   "execution_count": null,
   "id": "da867e41",
   "metadata": {},
   "outputs": [],
   "source": []
  },
  {
   "cell_type": "code",
   "execution_count": null,
   "id": "dccfee82",
   "metadata": {},
   "outputs": [],
   "source": []
  },
  {
   "cell_type": "code",
   "execution_count": null,
   "id": "50ff1683",
   "metadata": {},
   "outputs": [],
   "source": []
  },
  {
   "cell_type": "code",
   "execution_count": null,
   "id": "84f4abd5",
   "metadata": {},
   "outputs": [],
   "source": []
  },
  {
   "cell_type": "code",
   "execution_count": null,
   "id": "2ed38ee5",
   "metadata": {},
   "outputs": [],
   "source": []
  },
  {
   "cell_type": "code",
   "execution_count": null,
   "id": "11157c6f",
   "metadata": {},
   "outputs": [],
   "source": []
  }
 ],
 "metadata": {
  "kernelspec": {
   "display_name": "Python 3",
   "language": "python",
   "name": "python3"
  },
  "language_info": {
   "codemirror_mode": {
    "name": "ipython",
    "version": 3
   },
   "file_extension": ".py",
   "mimetype": "text/x-python",
   "name": "python",
   "nbconvert_exporter": "python",
   "pygments_lexer": "ipython3",
   "version": "3.10.12"
  }
 },
 "nbformat": 4,
 "nbformat_minor": 5
}
