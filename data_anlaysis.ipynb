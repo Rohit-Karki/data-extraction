{
 "cells": [
  {
   "cell_type": "code",
   "execution_count": 1,
   "id": "c2c941b6",
   "metadata": {},
   "outputs": [
    {
     "name": "stdout",
     "output_type": "stream",
     "text": [
      "25/06/10 12:26:22 WARN Utils: Your hostname, rohitkarki resolves to a loopback address: 127.0.1.1; using 10.13.164.166 instead (on interface wlp4s0)\n",
      "25/06/10 12:26:22 WARN Utils: Set SPARK_LOCAL_IP if you need to bind to another address\n",
      ":: loading settings :: url = jar:file:/home/rohitkarki/.local/lib/python3.10/site-packages/pyspark/jars/ivy-2.5.1.jar!/org/apache/ivy/core/settings/ivysettings.xml\n"
     ]
    },
    {
     "name": "stderr",
     "output_type": "stream",
     "text": [
      "Ivy Default Cache set to: /home/rohitkarki/.ivy2/cache\n",
      "The jars for the packages stored in: /home/rohitkarki/.ivy2/jars\n",
      "org.apache.iceberg#iceberg-spark-runtime-3.3_2.12 added as a dependency\n",
      "org.xerial#sqlite-jdbc added as a dependency\n",
      ":: resolving dependencies :: org.apache.spark#spark-submit-parent-ed92da2c-9299-4294-b7e3-74b3f8699de9;1.0\n",
      "\tconfs: [default]\n",
      "\tfound org.apache.iceberg#iceberg-spark-runtime-3.3_2.12;1.5.2 in central\n",
      "\tfound org.xerial#sqlite-jdbc;3.42.0.0 in central\n",
      ":: resolution report :: resolve 85ms :: artifacts dl 3ms\n",
      "\t:: modules in use:\n",
      "\torg.apache.iceberg#iceberg-spark-runtime-3.3_2.12;1.5.2 from central in [default]\n",
      "\torg.xerial#sqlite-jdbc;3.42.0.0 from central in [default]\n",
      "\t---------------------------------------------------------------------\n",
      "\t|                  |            modules            ||   artifacts   |\n",
      "\t|       conf       | number| search|dwnlded|evicted|| number|dwnlded|\n",
      "\t---------------------------------------------------------------------\n",
      "\t|      default     |   2   |   0   |   0   |   0   ||   2   |   0   |\n",
      "\t---------------------------------------------------------------------\n",
      ":: retrieving :: org.apache.spark#spark-submit-parent-ed92da2c-9299-4294-b7e3-74b3f8699de9\n",
      "\tconfs: [default]\n",
      "\t0 artifacts copied, 2 already retrieved (0kB/2ms)\n"
     ]
    },
    {
     "name": "stdout",
     "output_type": "stream",
     "text": [
      "25/06/10 12:26:23 WARN NativeCodeLoader: Unable to load native-hadoop library for your platform... using builtin-java classes where applicable\n"
     ]
    },
    {
     "name": "stderr",
     "output_type": "stream",
     "text": [
      "Setting default log level to \"WARN\".\n",
      "To adjust logging level use sc.setLogLevel(newLevel). For SparkR, use setLogLevel(newLevel).\n"
     ]
    }
   ],
   "source": [
    "# from pyiceberg.catalog import load_catalog\n",
    "# from iceberg_table_schema import SCHEMAS\n",
    "# from pyiceberg.schema import Schema\n",
    "# from pyiceberg.types import NestedField, IntegerType, StringType, FloatType\n",
    "# import pyarrow as pa\n",
    "\n",
    "# schema = Schema(\n",
    "#     NestedField(field_id=1, name=\"id\", field_type=IntegerType(), required=True),\n",
    "#     NestedField(field_id=2, name=\"category\", field_type=StringType(), required=True),\n",
    "#     NestedField(field_id=3, name=\"amount\", field_type=FloatType(), required=True),\n",
    "# )\n",
    "\n",
    "# catalog = load_catalog(\n",
    "#     \"default\",  # Default catalog name\n",
    "# )\n",
    "# catalog.create_namespace_if_not_exists(\"hello\")\n",
    "# namespaces = catalog.list_namespaces()\n",
    "# print(\"Namespaces:\", namespaces)\n",
    "# table_name = \"Drivers\"\n",
    "# # schema = SCHEMAS[\"sales\"][table_name] if table_name in SCHEMAS[\"sales\"] else \"sales\"\n",
    "# # iceberg_table = catalog.create_table(f\"hello.{table_name}\", schema=schema)\n",
    "\n",
    "# iceberg_table = catalog.create_table_if_not_exists(\n",
    "#     identifier=\"hello.sales_data\", schema=schema\n",
    "# )\n",
    "\n",
    "# pa_table_data = pa.Table.from_pylist(\n",
    "#     [\n",
    "#         {\"id\": 1, \"category\": \"electronics\", \"amount\": 299.99},\n",
    "#         {\"id\": 2, \"category\": \"clothing\", \"amount\": 79.99},\n",
    "#         {\"id\": 3, \"category\": \"groceries\", \"amount\": 45.50},\n",
    "#         {\"id\": 4, \"category\": \"electronics\", \"amount\": 999.99},\n",
    "#         {\"id\": 5, \"category\": \"clothing\", \"amount\": 120.00},\n",
    "#     ],\n",
    "#     schema=iceberg_table.schema().as_arrow(),\n",
    "# )\n",
    "\n",
    "# print(\"Iceberg Table Schema:\", iceberg_table.schema)\n",
    "\n",
    "# iceberg_table.append(df=pa_table_data)\n",
    "# print(iceberg_table.scan().to_arrow().to_string(preview_cols=10))\n",
    "\n",
    "\n",
    "# iceberg_table = catalog.load_table(f\"sales.sales_data\")\n",
    "\n",
    "# df = iceberg_table.scan(\n",
    "#     row_filter=\"status == 'Incomplete' and app_date >= '04/01/2025'\",\n",
    "#     limit=40,\n",
    "#     selected_fields=(\"app_no\", \"type\", \"status\", \"app_date\"),\n",
    "# ).to_pandas()\n",
    "\n",
    "\n",
    "from pyspark.sql import SparkSession\n",
    "from pyspark.sql.types import StructType, StructField, LongType, StringType, DoubleType\n",
    "\n",
    "import os\n",
    "import sys\n",
    "\n",
    "os.environ[\"PYSPARK_PYTHON\"] = sys.executable\n",
    "os.environ[\"PYSPARK_DRIVER_PYTHON\"] = sys.executable\n",
    "spark = (\n",
    "    SparkSession.builder.appName(\"IcebergLocalDevelopment\")\n",
    "    .config(\n",
    "        \"spark.jars.packages\",\n",
    "        \"org.apache.iceberg:iceberg-spark-runtime-3.3_2.12:1.5.2,org.xerial:sqlite-jdbc:3.42.0.0\",\n",
    "    )\n",
    "    .config(\"spark.sql.crossJoin.enabled\", \"true\")\n",
    "    .config(\"spark.sql.iceberg.handle-timestamp-without-timezone\", \"true\")\n",
    "    .config(\n",
    "        \"spark.sql.extensions\",\n",
    "        \"org.apache.iceberg.spark.extensions.IcebergSparkSessionExtensions\",\n",
    "    )\n",
    "    .config(\"spark.sql.catalog.default\", \"org.apache.iceberg.spark.SparkCatalog\")\n",
    "    .config(\"spark.sql.catalog.default.type\", \"jdbc\")\n",
    "    # .config(\n",
    "    #     \"spark.sql.catalog.default.catalog-impl\",\n",
    "    #     \"org.apache.iceberg.jdbc.JdbcCatalog\",\n",
    "    # )\n",
    "    .config(\n",
    "        \"spark.sql.catalog.default.uri\",\n",
    "        \"jdbc:sqlite:/tmp/warehouse/pyiceberg_catalog.db\",\n",
    "    )\n",
    "    .config(\n",
    "        \"spark.sql.catalog.default.warehouse\",\n",
    "        \"hdfs://localhost:9000/user/hive/warehouse\",\n",
    "    )\n",
    "    .config(\"spark.sql.catalog.default.jdbc.driver\", \"org.sqlite.JDBC\")\n",
    "    .config(\"spark.hadoop.fs.defaultFS\", \"hdfs://localhost:9000\")\n",
    "    .config(\"spark.serializer\", \"org.apache.spark.serializer.KryoSerializer\")\n",
    "    .getOrCreate()\n",
    ")"
   ]
  },
  {
   "cell_type": "code",
   "execution_count": 2,
   "id": "a2ba9d13",
   "metadata": {},
   "outputs": [
    {
     "name": "stdout",
     "output_type": "stream",
     "text": [
      "+-------------+---------+\n",
      "|      catalog|namespace|\n",
      "+-------------+---------+\n",
      "|spark_catalog|  default|\n",
      "+-------------+---------+\n",
      "\n",
      "+---------+\n",
      "|namespace|\n",
      "+---------+\n",
      "|  default|\n",
      "+---------+\n",
      "\n",
      "25/06/10 12:26:29 WARN JdbcCatalog: JDBC catalog is initialized without view support. To auto-migrate the database's schema and enable view support, set jdbc.schema-version=V1\n",
      "+---------+\n",
      "|namespace|\n",
      "+---------+\n",
      "|    sales|\n",
      "+---------+\n",
      "\n",
      "+---------+---------+-----------+\n",
      "|namespace|tableName|isTemporary|\n",
      "+---------+---------+-----------+\n",
      "|    sales|  Drivers|      false|\n",
      "|    sales| vehicles|      false|\n",
      "+---------+---------+-----------+\n",
      "\n"
     ]
    }
   ],
   "source": [
    "\n",
    "# Check current catalog and namespace\n",
    "spark.sql(\"SHOW CURRENT NAMESPACE\").show()\n",
    "\n",
    "# List all namespaces/databases\n",
    "spark.sql(\"SHOW NAMESPACES\").show()\n",
    "\n",
    "# List namespaces in the default catalog specifically\n",
    "spark.sql(\"SHOW NAMESPACES IN default\").show()\n",
    "\n",
    "# If sales namespace exists, try to use it\n",
    "spark.sql(\"USE default.sales\")\n",
    "spark.sql(\"SHOW TABLES\").show()\n"
   ]
  },
  {
   "cell_type": "code",
   "execution_count": 7,
   "id": "cd9aabd9",
   "metadata": {},
   "outputs": [
    {
     "name": "stdout",
     "output_type": "stream",
     "text": [
      "+-----+--------------------+\n",
      "|count|              status|\n",
      "+-----+--------------------+\n",
      "| 2579|          Incomplete|\n",
      "|  440|Approved - Licens...|\n",
      "|  153|              Denied|\n",
      "|   83|        Under Review|\n",
      "|    7|Pending Fitness I...|\n",
      "+-----+--------------------+\n",
      "\n"
     ]
    }
   ],
   "source": [
    "spark.sql(\n",
    "    \"\"\"\n",
    "SELECT COUNT(*) as count, table.status\n",
    "FROM sales.Drivers as table\n",
    "GROUP BY status\n",
    "ORDER BY COUNT(*) DESC\n",
    "\"\"\"\n",
    ").show(10)"
   ]
  },
  {
   "cell_type": "code",
   "execution_count": null,
   "id": "7a695b4a",
   "metadata": {},
   "outputs": [
    {
     "name": "stdout",
     "output_type": "stream",
     "text": [
      "25/06/10 10:51:58 WARN JdbcCatalog: JDBC catalog is initialized without view support. To auto-migrate the database's schema and enable view support, set jdbc.schema-version=V1\n",
      "Available catalogs:\n",
      "+-------+\n",
      "|catalog|\n",
      "+-------+\n",
      "|default|\n",
      "+-------+\n",
      "\n",
      "Data written via DataFrame API:\n"
     ]
    },
    {
     "name": "stderr",
     "output_type": "stream",
     "text": [
      "                                                                                \r"
     ]
    },
    {
     "name": "stdout",
     "output_type": "stream",
     "text": [
      "+---+-----------+------+\n",
      "| id|   category|amount|\n",
      "+---+-----------+------+\n",
      "|  1|electronics|299.99|\n",
      "|  6|      books| 25.99|\n",
      "|  2|   clothing| 79.99|\n",
      "|  3|  groceries|  45.5|\n",
      "|  7|electronics|599.99|\n",
      "|  4|electronics|999.99|\n",
      "|  5|   clothing| 120.0|\n",
      "+---+-----------+------+\n",
      "\n",
      "Category-wise totals:\n",
      "+-----------+-----+------------+-----------------+\n",
      "|   category|count|total_amount|       avg_amount|\n",
      "+-----------+-----+------------+-----------------+\n",
      "|electronics|    3|     1899.97|633.3233333333334|\n",
      "|   clothing|    2|      199.99|           99.995|\n",
      "|  groceries|    1|        45.5|             45.5|\n",
      "|      books|    1|       25.99|            25.99|\n",
      "+-----------+-----+------------+-----------------+\n",
      "\n"
     ]
    }
   ],
   "source": [
    "# Set default catalog to local for convenience\n",
    "# spark.sql(\"USE default\")\n",
    "\n",
    "# # Verify Spark session creation and catalog\n",
    "# print(\"Available catalogs:\")\n",
    "# spark.sql(\"SHOW CATALOGS\").show()\n",
    "\n",
    "# # # Create namespace/database\n",
    "# # spark.sql(\"CREATE NAMESPACE IF NOT EXISTS hello\")\n",
    "\n",
    "\n",
    "# # # Show available namespaces\n",
    "# # print(\"Available namespaces:\")\n",
    "# # spark.sql(\"SHOW NAMESPACES\").show()\n",
    "\n",
    "\n",
    "# # Create sample data\n",
    "# data = [\n",
    "#     (1, \"electronics\", 299.99),\n",
    "#     (2, \"clothing\", 79.99),\n",
    "#     (3, \"groceries\", 45.50),\n",
    "#     (4, \"electronics\", 999.99),\n",
    "#     (5, \"clothing\", 120.00),\n",
    "# ]\n",
    "\n",
    "# # Define schema\n",
    "# schema = StructType(\n",
    "#     [\n",
    "#         StructField(\"id\", LongType(), True),\n",
    "#         StructField(\"category\", StringType(), True),\n",
    "#         StructField(\"amount\", DoubleType(), True),\n",
    "#     ]\n",
    "# )\n",
    "\n",
    "# # # Create DataFrame\n",
    "# # df = spark.createDataFrame(data, schema)\n",
    "\n",
    "# # # Write DataFrame to Iceberg table\n",
    "# # df.write.format(\"iceberg\").mode(\"overwrite\").saveAsTable(\"hello.sales_data_df\")\n",
    "\n",
    "# # Read the data back\n",
    "# print(\"Data written via DataFrame API:\")\n",
    "# spark.table(\"hello.sales_data_df\").show()\n",
    "\n",
    "# # Perform analytics\n",
    "# print(\"Category-wise totals:\")\n",
    "# spark.sql(\n",
    "#     \"\"\"\n",
    "# SELECT category, \n",
    "#        COUNT(*) as count, \n",
    "#        SUM(amount) as total_amount,\n",
    "#        AVG(amount) as avg_amount\n",
    "# FROM hello.sales_data_df \n",
    "# GROUP BY category \n",
    "# ORDER BY total_amount DESC\n",
    "# \"\"\"\n",
    "# ).show()\n"
   ]
  },
  {
   "cell_type": "code",
   "execution_count": null,
   "id": "5d2aeae0",
   "metadata": {},
   "outputs": [],
   "source": []
  },
  {
   "cell_type": "code",
   "execution_count": null,
   "id": "e28cb4c1",
   "metadata": {},
   "outputs": [],
   "source": []
  },
  {
   "cell_type": "code",
   "execution_count": null,
   "id": "da867e41",
   "metadata": {},
   "outputs": [],
   "source": []
  },
  {
   "cell_type": "code",
   "execution_count": null,
   "id": "dccfee82",
   "metadata": {},
   "outputs": [],
   "source": []
  },
  {
   "cell_type": "code",
   "execution_count": null,
   "id": "50ff1683",
   "metadata": {},
   "outputs": [],
   "source": []
  },
  {
   "cell_type": "code",
   "execution_count": null,
   "id": "84f4abd5",
   "metadata": {},
   "outputs": [],
   "source": []
  },
  {
   "cell_type": "code",
   "execution_count": null,
   "id": "2ed38ee5",
   "metadata": {},
   "outputs": [],
   "source": []
  },
  {
   "cell_type": "code",
   "execution_count": null,
   "id": "11157c6f",
   "metadata": {},
   "outputs": [],
   "source": []
  }
 ],
 "metadata": {
  "kernelspec": {
   "display_name": "Python 3",
   "language": "python",
   "name": "python3"
  },
  "language_info": {
   "codemirror_mode": {
    "name": "ipython",
    "version": 3
   },
   "file_extension": ".py",
   "mimetype": "text/x-python",
   "name": "python",
   "nbconvert_exporter": "python",
   "pygments_lexer": "ipython3",
   "version": "3.10.12"
  }
 },
 "nbformat": 4,
 "nbformat_minor": 5
}
